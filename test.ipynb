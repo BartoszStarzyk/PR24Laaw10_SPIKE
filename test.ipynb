{
 "cells": [
  {
   "cell_type": "code",
   "execution_count": 1,
   "metadata": {},
   "outputs": [
    {
     "name": "stderr",
     "output_type": "stream",
     "text": [
      "2024-05-21 18:02:24.853241: I tensorflow/core/platform/cpu_feature_guard.cc:193] This TensorFlow binary is optimized with oneAPI Deep Neural Network Library (oneDNN) to use the following CPU instructions in performance-critical operations:  AVX2 FMA\n",
      "To enable them in other operations, rebuild TensorFlow with the appropriate compiler flags.\n",
      "2024-05-21 18:02:25.252833: W tensorflow/compiler/xla/stream_executor/platform/default/dso_loader.cc:64] Could not load dynamic library 'libcudart.so.11.0'; dlerror: libcudart.so.11.0: cannot open shared object file: No such file or directory; LD_LIBRARY_PATH: /app/lib\n",
      "2024-05-21 18:02:25.252872: I tensorflow/compiler/xla/stream_executor/cuda/cudart_stub.cc:29] Ignore above cudart dlerror if you do not have a GPU set up on your machine.\n",
      "2024-05-21 18:02:26.737293: W tensorflow/compiler/xla/stream_executor/platform/default/dso_loader.cc:64] Could not load dynamic library 'libnvinfer.so.7'; dlerror: libnvinfer.so.7: cannot open shared object file: No such file or directory; LD_LIBRARY_PATH: /app/lib\n",
      "2024-05-21 18:02:26.737412: W tensorflow/compiler/xla/stream_executor/platform/default/dso_loader.cc:64] Could not load dynamic library 'libnvinfer_plugin.so.7'; dlerror: libnvinfer_plugin.so.7: cannot open shared object file: No such file or directory; LD_LIBRARY_PATH: /app/lib\n",
      "2024-05-21 18:02:26.737422: W tensorflow/compiler/tf2tensorrt/utils/py_utils.cc:38] TF-TRT Warning: Cannot dlopen some TensorRT libraries. If you would like to use Nvidia GPU with TensorRT, please make sure the missing libraries mentioned above are installed properly.\n",
      "2024-05-21 18:02:29.393806: W tensorflow/compiler/xla/stream_executor/platform/default/dso_loader.cc:64] Could not load dynamic library 'libcudart.so.11.0'; dlerror: libcudart.so.11.0: cannot open shared object file: No such file or directory; LD_LIBRARY_PATH: /app/lib\n",
      "2024-05-21 18:02:30.545499: W tensorflow/compiler/xla/stream_executor/platform/default/dso_loader.cc:64] Could not load dynamic library 'libnvinfer.so.7'; dlerror: libnvinfer.so.7: cannot open shared object file: No such file or directory; LD_LIBRARY_PATH: /app/lib\n",
      "2024-05-21 18:02:30.545565: W tensorflow/compiler/xla/stream_executor/platform/default/dso_loader.cc:64] Could not load dynamic library 'libnvinfer_plugin.so.7'; dlerror: libnvinfer_plugin.so.7: cannot open shared object file: No such file or directory; LD_LIBRARY_PATH: /app/lib\n",
      "2024-05-21 18:02:30.545575: W tensorflow/compiler/tf2tensorrt/utils/py_utils.cc:38] TF-TRT Warning: Cannot dlopen some TensorRT libraries. If you would like to use Nvidia GPU with TensorRT, please make sure the missing libraries mentioned above are installed properly.\n",
      "2024-05-21 18:02:31.880774: W tensorflow/compiler/xla/stream_executor/platform/default/dso_loader.cc:64] Could not load dynamic library 'libcuda.so.1'; dlerror: libcuda.so.1: cannot open shared object file: No such file or directory; LD_LIBRARY_PATH: /app/lib\n",
      "2024-05-21 18:02:31.881194: W tensorflow/compiler/xla/stream_executor/cuda/cuda_driver.cc:265] failed call to cuInit: UNKNOWN ERROR (303)\n"
     ]
    }
   ],
   "source": [
    "import numpy as np\n",
    "import tensorflow as tf\n",
    "import os\n",
    "import nengo_dl\n",
    "import matplotlib.pyplot as plt"
   ]
  },
  {
   "cell_type": "code",
   "execution_count": 2,
   "metadata": {},
   "outputs": [],
   "source": [
    "import struct\n",
    "from string import ascii_uppercase\n",
    "from segmention import segmentoutletters\n",
    "\n",
    "def read_images(file_path):\n",
    "    with open(file_path, 'rb') as f:\n",
    "        magic, num_images, rows, cols = struct.unpack(\">IIII\", f.read(16))\n",
    "        images = np.fromfile(f, dtype=np.uint8).reshape(num_images, rows, cols)\n",
    "    return images\n",
    "\n",
    "def read_labels(file_path):\n",
    "    with open(file_path, 'rb') as f:\n",
    "        magic, num_labels = struct.unpack(\">II\", f.read(8))\n",
    "        labels = np.fromfile(f, dtype=np.uint8)\n",
    "    return labels\n",
    "\n",
    "def read_validation_data(n_steps=30):\n",
    "    labels = {\n",
    "            \"(BARCODE)0003\": \"AT_02001/2\",\n",
    "            \"(BARCODE)0007\": \"AT_02001/6\",\n",
    "            \"(BARCODE)0015\": \"AT_02002/4\",\n",
    "            \"BG_0005\": \"BG_01001/5\",\n",
    "            \"BG_0012\": \"BG_01002/2\",\n",
    "            \"BG_0014\": \"BG_01002/4\",\n",
    "        }\n",
    "\n",
    "    a = list(range(36)) + [1, 1]\n",
    "    b = list(map(str, range(10))) + list(ascii_uppercase) + [\"/\", \"_\"]\n",
    "    convert_classes = dict(zip(b, a))\n",
    "\n",
    "    for i, name in zip(range(6), os.listdir(\"../Dane\")):\n",
    "        segmentation_output, _ = segmentoutletters(name)\n",
    "        segmentation_labels = np.array([convert_classes[i] for i in labels[name[:-4]]])\n",
    "        validation_images = np.vstack((validation_images, segmentation_output)) if i else segmentation_output\n",
    "        validation_labels = np.vstack((validation_labels, segmentation_labels.reshape((-1, 1)))) if i else segmentation_labels.reshape((-1, 1))\n",
    "    \n",
    "    validation_labels = np.tile(validation_labels[:, :, None], (1, n_steps, 1))\n",
    "    return validation_images, validation_labels\n",
    "\n",
    "def preprocess(images, labels, n_steps=1, portion=1):\n",
    "    # choose only a portion of the samples, delete lowercase letters\n",
    "    indices = []\n",
    "    for i in range(36):\n",
    "      idcs = np.where(labels == i)[0][::portion]\n",
    "      indices += list(idcs)\n",
    "    images = images[indices, ...]\n",
    "    images = np.moveaxis(images, 2, 1)\n",
    "    labels = labels[indices]\n",
    "    # flatten images\n",
    "    images = images.reshape((images.shape[0], -1))\n",
    "    # add time\n",
    "    images = np.tile(images[:, None, :], (1, n_steps, 1))\n",
    "    labels = np.tile(labels[:, None, None], (1, n_steps, 1))\n",
    "    return images, labels"
   ]
  },
  {
   "cell_type": "code",
   "execution_count": 3,
   "metadata": {},
   "outputs": [],
   "source": [
    "\n",
    "train_images = read_images('datasets/gzip/emnist-balanced-train-images-idx3-ubyte')\n",
    "train_labels = read_labels('datasets/gzip/emnist-balanced-train-labels-idx1-ubyte')\n",
    "\n",
    "n_steps = 30\n",
    "train_images, train_labels = preprocess(train_images, train_labels, 1, 1)\n",
    "validation_images, validation_labels = read_validation_data(30)"
   ]
  },
  {
   "cell_type": "code",
   "execution_count": 4,
   "metadata": {},
   "outputs": [
    {
     "name": "stdout",
     "output_type": "stream",
     "text": [
      "(86400, 1, 1)\n",
      "(86400, 1, 784)\n",
      "(60, 30, 1)\n",
      "(60, 30, 784)\n",
      "255\n",
      "255\n"
     ]
    },
    {
     "data": {
      "image/png": "[encoded data removed]",
      "text/plain": [
       "<Figure size 1200x400 with 3 Axes>"
      ]
     },
     "metadata": {},
     "output_type": "display_data"
    }
   ],
   "source": [
    "# print(train_labels.shape)\n",
    "# print(train_images.shape)\n",
    "# print(validation_labels.shape)\n",
    "# print(validation_images.shape)\n",
    "# print(np.max(validation_images))\n",
    "# print(np.max(train_images))\n",
    "\n",
    "plt.figure(figsize=(12, 4))\n",
    "for i in range(3):\n",
    "    plt.subplot(1, 3, i + 1)\n",
    "    plt.imshow(train_images[i, 0, :].reshape((28, 28)), cmap=\"gray\")\n",
    "    plt.axis(\"off\")\n",
    "    plt.title(str(train_labels[i, 0, :]))"
   ]
  },
  {
   "cell_type": "code",
   "execution_count": 6,
   "metadata": {},
   "outputs": [
    {
     "data": {
      "image/png": "[encoded data removed]",
      "text/plain": [
       "<Figure size 1200x400 with 3 Axes>"
      ]
     },
     "metadata": {},
     "output_type": "display_data"
    }
   ],
   "source": [
    "plt.figure(figsize=(12, 4))\n",
    "for i in range(3):\n",
    "    plt.subplot(1, 3, i + 1)\n",
    "    plt.imshow(validation_images[i, 0, :].reshape((28, 28)), cmap=\"gray\")\n",
    "    plt.axis(\"off\")\n",
    "    plt.title(str(validation_labels[i, 0, :]))"
   ]
  },
  {
   "cell_type": "code",
   "execution_count": 7,
   "metadata": {},
   "outputs": [],
   "source": [
    "from network import net\n",
    "model, out_p, out_p_filt = net()"
   ]
  },
  {
   "cell_type": "code",
   "execution_count": 8,
   "metadata": {},
   "outputs": [
    {
     "name": "stdout",
     "output_type": "stream",
     "text": [
      "|                     Building network (0%)                    | ETA:  --:--:--\n",
      "|                     Building network (0%)                    | ETA:  --:--:--\n",
      "|##                    Building network (3%)                     | ETA: 0:00:05\n"
     ]
    },
    {
     "name": "stderr",
     "output_type": "stream",
     "text": [
      "/home/bart/Dokumenty/StudiaII/Semestr1/Akceleracja_algorytmów_wizyjnych_w_GPU_i_OpenCL/Projekt/Kod/.venv/lib/python3.10/site-packages/nengo_dl/simulator.py:456: UserWarning: No GPU support detected. See https://www.nengo.ai/nengo-dl/installation.html#installing-tensorflow for instructions on setting up TensorFlow with GPU support.\n",
      "  warnings.warn(\n"
     ]
    },
    {
     "name": "stdout",
     "output_type": "stream",
     "text": [
      "|##                    Building network (3%)                     | ETA: 0:00:07\n",
      "|##                    Building network (3%)                     | ETA: 0:00:09\n",
      "|##                    Building network (3%)                     | ETA: 0:00:10\n",
      "|##                    Building network (3%)                     | ETA: 0:00:12\n",
      "|##                    Building network (3%)                     | ETA: 0:00:13\n",
      "|##                    Building network (3%)                     | ETA: 0:00:15\n",
      "|####                  Building network (6%)                     | ETA: 0:00:08\n",
      "|####                  Building network (6%)                     | ETA: 0:00:09\n",
      "|######                Building network (9%)                     | ETA: 0:00:06\n",
      "|######                Building network (9%)                     | ETA: 0:00:06\n",
      "Build finished in 0:00:00\n",
      "|#                         Optimizing graph                           | 0:00:00\n",
      "|#             Optimizing graph: operator simplificaton               | 0:00:00\n",
      "Optimizing graph: operator simplificaton finished in 0:00:00\n",
      "|#                Optimizing graph: merging operators                 | 0:00:00\n",
      "Optimizing graph: merging operators finished in 0:00:00\n",
      "|#                Optimizing graph: ordering signals                  | 0:00:00\n",
      "Optimizing graph: ordering signals finished in 0:00:00\n",
      "|#                Optimizing graph: creating signals                  | 0:00:00\n",
      "Optimizing graph: creating signals finished in 0:00:00\n",
      "Optimization finished in 0:00:00\n",
      "|#                        Constructing graph                          | 0:00:00\n",
      "| #                       Constructing graph                          | 0:00:00\n",
      "|  #                      Constructing graph                          | 0:00:00\n"
     ]
    },
    {
     "name": "stderr",
     "output_type": "stream",
     "text": [
      "2024-05-21 13:35:29.866092: W tensorflow/compiler/xla/stream_executor/platform/default/dso_loader.cc:64] Could not load dynamic library 'libcuda.so.1'; dlerror: libcuda.so.1: cannot open shared object file: No such file or directory; LD_LIBRARY_PATH: /home/bart/Dokumenty/StudiaII/Semestr1/Akceleracja_algorytmów_wizyjnych_w_GPU_i_OpenCL/Projekt/Kod/.venv/lib/python3.10/site-packages/cv2/../../lib64:/app/lib\n",
      "2024-05-21 13:35:29.866115: W tensorflow/compiler/xla/stream_executor/cuda/cuda_driver.cc:265] failed call to cuInit: UNKNOWN ERROR (303)\n",
      "2024-05-21 13:35:29.866132: I tensorflow/compiler/xla/stream_executor/cuda/cuda_diagnostics.cc:156] kernel driver does not appear to be running on this host (acer): /proc/driver/nvidia/version does not exist\n",
      "2024-05-21 13:35:29.874468: I tensorflow/core/platform/cpu_feature_guard.cc:193] This TensorFlow binary is optimized with oneAPI Deep Neural Network Library (oneDNN) to use the following CPU instructions in performance-critical operations:  AVX2 FMA\n",
      "To enable them in other operations, rebuild TensorFlow with the appropriate compiler flags.\n"
     ]
    },
    {
     "name": "stdout",
     "output_type": "stream",
     "text": [
      "|   #                     Constructing graph                          | 0:00:00\n",
      "|           Constructing graph: pre-build stage (0%)           | ETA:  --:--:--\n",
      "Constructing graph: pre-build stage finished in 0:00:00\n",
      "|             Constructing graph: build stage (0%)             | ETA:  --:--:--\n",
      "|#####         Constructing graph: build stage (9%)              | ETA: 0:00:00\n",
      "|#########     Constructing graph: build stage (15%)             | ETA: 0:00:00\n",
      "|##############Constructing graph: build stage (27%)             | ETA: 0:00:00\n",
      "|##############Constructing graph: build stage (39%)             | ETA: 0:00:00\n",
      "|##############Constructing graph: build stage (51%)             | ETA: 0:00:00\n",
      "|##############Constructing graph: build stage (63%)             | ETA: 0:00:00\n",
      "|##############Constructing graph: build stage (87%)#####        | ETA: 0:00:00\n",
      "|############Constructing graph: build stage (100%)############| ETA:  00:00:00\n",
      "|        #                Constructing graph                          | 0:00:00\n",
      "Constructing graph: build stage finished in 0:00:00\n",
      "Construction finished in 0:00:00\n"
     ]
    }
   ],
   "source": [
    "def classification_accuracy(y_true, y_pred):\n",
    "    return tf.metrics.sparse_categorical_accuracy(y_true[:, -1], y_pred[:, -1])\n",
    "minibatch_size = 180\n",
    "sim = nengo_dl.Simulator(model, minibatch_size=minibatch_size)\n",
    "sim.compile(\n",
    "        optimizer=tf.optimizers.RMSprop(0.001),\n",
    "        loss={out_p: tf.losses.SparseCategoricalCrossentropy(from_logits=True)},\n",
    "        metrics=classification_accuracy\n",
    "    )"
   ]
  },
  {
   "cell_type": "code",
   "execution_count": 9,
   "metadata": {},
   "outputs": [
    {
     "name": "stdout",
     "output_type": "stream",
     "text": [
      "Epoch: 0/30\n",
      "|           Constructing graph: pre-build stage (0%)           | ETA:  --:--:--\n",
      "Constructing graph: pre-build stage finished in 0:00:00\n",
      "|             Constructing graph: build stage (0%)             | ETA:  --:--:--\n"
     ]
    },
    {
     "name": "stderr",
     "output_type": "stream",
     "text": [
      "2024-05-21 13:35:30.916363: W tensorflow/tsl/framework/cpu_allocator_impl.cc:82] Allocation of 1354752000 exceeds 10% of free system memory.\n"
     ]
    },
    {
     "name": "stdout",
     "output_type": "stream",
     "text": [
      "|#             Constructing graph: build stage (3%)              | ETA: 0:00:02\n",
      "|#########     Constructing graph: build stage (15%)             | ETA: 0:00:00\n",
      "|##############Constructing graph: build stage (27%)             | ETA: 0:00:00\n",
      "|##############Constructing graph: build stage (45%)             | ETA: 0:00:00\n",
      "|##############Constructing graph: build stage (57%)             | ETA: 0:00:00\n",
      "|##############Constructing graph: build stage (78%)             | ETA: 0:00:00\n",
      "|##############Constructing graph: build stage (93%)#########    | ETA: 0:00:00\n",
      "|############Constructing graph: build stage (100%)############| ETA:  00:00:00\n",
      "|############Constructing graph: build stage (100%)############| ETA:  00:00:00\n",
      "Constructing graph: build stage finished in 0:00:00\n",
      "|           Constructing graph: pre-build stage (0%)           | ETA:  --:--:--\n",
      "Constructing graph: pre-build stage finished in 0:00:00\n",
      "|             Constructing graph: build stage (0%)             | ETA:  --:--:--\n",
      "|#             Constructing graph: build stage (3%)              | ETA: 0:00:02\n",
      "|#########     Constructing graph: build stage (15%)             | ETA: 0:00:00\n",
      "|##############Constructing graph: build stage (27%)             | ETA: 0:00:00\n",
      "|##############Constructing graph: build stage (39%)             | ETA: 0:00:00\n",
      "|##############Constructing graph: build stage (51%)             | ETA: 0:00:00\n",
      "|##############Constructing graph: build stage (63%)             | ETA: 0:00:00\n",
      "|##############Constructing graph: build stage (81%)#            | ETA: 0:00:00\n",
      "|############Constructing graph: build stage (100%)############| ETA:  00:00:00\n",
      "|############Constructing graph: build stage (100%)############| ETA:  00:00:00\n",
      "|############Constructing graph: build stage (100%)############| ETA:  00:00:00\n",
      "Constructing graph: build stage finished in 0:00:00\n"
     ]
    }
   ],
   "source": [
    "# stack data to be able to evaluate with minibatch_size\n",
    "validation_images = np.tile(validation_images, (3, 1, 1))\n",
    "validation_labels = np.tile(validation_labels, (3, 1, 1))\n",
    "# training loop\n",
    "max_epochs = 30\n",
    "patience = 5\n",
    "history = {'loss' : [], 'val_loss' : [], 'accuracy' : [], \"val_accuracy\" : []}\n",
    "RUN_ID = 0 # do zmiany przy douczaniu (żeby nienadpisywały się wagi)\n",
    "prams_dir = \"wagi_epoki/\"\n",
    "for epoch in range(max_epochs):\n",
    "    print(f\"Epoch: {epoch}/{max_epochs}\")\n",
    "    stats = sim.fit(train_images, {out_p : train_labels}, epochs=1)\n",
    "    print(\"Validation results:\")\n",
    "    val_stats = sim.evaluate(validation_images, {out_p : validation_labels})\n",
    "    val_loss = val_stats['loss']\n",
    "    if epoch > patience:\n",
    "        if history['val_loss'][-patience] < val_loss:\n",
    "            best_epoch = min(range(epoch-1), key=lambda e: history['val_loss'][e])\n",
    "            print(\"Training stopped due to overfitting\")\n",
    "            print(f\"Best validation_results at epoch {best_epoch}\")\n",
    "            break\n",
    "    sim.save_params(prams_dir + f\"params_epoch_{epoch}_run{RUN_ID}\")\n",
    "    history['loss'].append(stats.history['loss'])\n",
    "    history['val_loss'].append(val_loss)\n",
    "    history['accuracy'].append(stats.history['out_p_classification_accuracy'])\n",
    "    history['val_accuracy'].append(val_stats['out_p_classification_accuracy'])"
   ]
  },
  {
   "cell_type": "code",
   "execution_count": null,
   "metadata": {},
   "outputs": [
    {
     "data": {
      "text/plain": [
       "<matplotlib.legend.Legend at 0x7f77b351be50>"
      ]
     },
     "execution_count": 21,
     "metadata": {},
     "output_type": "execute_result"
    },
    {
     "data": {
      "image/png": "[encoded data removed]",
      "text/plain": [
       "<Figure size 1200x400 with 2 Axes>"
      ]
     },
     "metadata": {},
     "output_type": "display_data"
    }
   ],
   "source": [
    "plt.figure(figsize=(12, 4))\n",
    "ax = plt.subplot(1, 2, 1)\n",
    "plt.plot(history['loss'], color='red', marker='.')\n",
    "plt.plot(history['val_loss'], color='blue', marker='.')\n",
    "plt.xticks(np.arange(epoch))\n",
    "ax.legend([\"Trainning loss\", \"Validation loss\"])\n",
    "\n",
    "ax = plt.subplot(1, 2, 2)\n",
    "plt.plot(history['accuracy'], color='red', marker='.')\n",
    "plt.plot(history['val_accuracy'], color='blue', marker='.')\n",
    "plt.xticks(np.arange(epoch))\n",
    "ax.legend([\"Trainning accuracy\", \"Validation accuracy\"])"
   ]
  },
  {
   "cell_type": "code",
   "execution_count": null,
   "metadata": {},
   "outputs": [],
   "source": [
    "sim.close()"
   ]
  }
 ],
 "metadata": {
  "kernelspec": {
   "display_name": ".venv",
   "language": "python",
   "name": "python3"
  },
  "language_info": {
   "codemirror_mode": {
    "name": "ipython",
    "version": 3
   },
   "file_extension": ".py",
   "mimetype": "text/x-python",
   "name": "python",
   "nbconvert_exporter": "python",
   "pygments_lexer": "ipython3",
   "version": "3.10.6"
  },
  "orig_nbformat": 4,
  "vscode": {
   "interpreter": {
    "hash": "af5390c80ecda3b61b3eea61f71445c8d472d7c5162b748bf56f6e734ec302c4"
   }
  }
 },
 "nbformat": 4,
 "nbformat_minor": 2
}
